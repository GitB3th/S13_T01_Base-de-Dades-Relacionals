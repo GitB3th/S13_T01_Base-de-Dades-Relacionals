{
 "cells": [
  {
   "cell_type": "markdown",
   "id": "4852c35e",
   "metadata": {},
   "source": [
    "# S13_T01_Bases de dades relacionals\n",
    "\n",
    "\n",
    "### Ex1: Crea una base relacional d’exemple utilitzant un document de text o a mà. Dissenya-la perquè contingui les següents taules, i estableix les relacions que consideris necessàries entre elles:\n",
    "\n",
    "-\tTaula de compres (transaccions)\n",
    "\n",
    "-\tTaula d’establiments\n",
    "\n",
    "-\tTaula de treballadors\n",
    "\n",
    "-\tTaula de clients\n",
    "\n",
    "-\tTaula de productes\n",
    "\n",
    "-\tTaula de tipus de productes\n",
    "\n",
    "Defineix les propietats de les relacions (1:1, 1:n, n:n), i crea algunes de les variables que podrien contenir, per exemple:\n",
    "\n",
    "Taula d’establiments\n",
    "-\tIDestabliment (unique key)\n",
    "\n",
    "-\tNom\n",
    "\n",
    "-\tLocalització\n",
    "\n",
    "-\tSuperfície\n"
   ]
  },
  {
   "cell_type": "markdown",
   "id": "7bade93a",
   "metadata": {},
   "source": [
    "Una base relacional està formada per un conjunt de relacions\n",
    "En el nostre cas el sistema hauria d'incloure el control de totes les compres realitzades en els diferents establiments\n",
    "Amb les taules que tenim i les interrelacions entre elles i els seus atributs crearem un base de dades relacional\n",
    "Ens hem informat, i cada establiment consta de només un treballador, que pot canviar d'establiment. Els clients poden comprar diferents productes dins del mateix establiment, i també poden anar a comprar productes als diferents establiments."
   ]
  },
  {
   "cell_type": "markdown",
   "id": "9e20bc6d",
   "metadata": {},
   "source": [
    "He adjuntat al GitHub un excel que he preparat amb les diferents definicions de taules, entitats, interrelacions, clau primàries i cardinalitat creades per a la base relacional\n",
    "Link \"C:/Users/Beth/Python_Projects/Task_Sprint13/Task1/Base_relacional_Compres.xls\""
   ]
  },
  {
   "attachments": {
    "image.png": {
     "image/png": "[encoded data removed]"
    }
   },
   "cell_type": "markdown",
   "id": "1e7996ef",
   "metadata": {},
   "source": [
    "Aqui poso un resum:\n",
    "\n",
    "Entitats:\tCOMPRA\tCLIENT\tESTABLIMENT\tPRODUCTE\tTREBALLADOR\n",
    "\n",
    "Interrelacions:\t\n",
    "   * Treballa, entre ESTABLIMENT i TREBALLADOR(N-1)\t\t\t\t\n",
    "   * Ven, entre TREBALLADOR i PRODUCTE(M-N)\t\t\t\t\n",
    "   * Compra, entre CLIENT i ESTABLIMENT(1-N)\t\t\t\t\n",
    "   * Éscomprat, entre PRODUCTE i CLIENT(M-N)\t\t\t\t\n",
    "\n",
    "Clau primària:\t\n",
    "   * ESTABLIMENT(IDestabliment)\t\t\t\t\n",
    "   * CLIENT(IDclient)\t\t\t\t\n",
    "   * PRODUCTE(IDproducte)\t\t\t\t\n",
    "   * TREBALLADOR(IDtreballador)\t\t\t\t\n",
    "   * COMPRA(Idcompra)\t\t\t\t\n",
    "![image.png](attachment:image.png)"
   ]
  },
  {
   "cell_type": "markdown",
   "id": "1acec5f5",
   "metadata": {},
   "source": [
    "I ara en l'exercici 2 el diagrama entitat-relació creat amb dia-installer"
   ]
  },
  {
   "cell_type": "markdown",
   "id": "3cd5fcbe",
   "metadata": {},
   "source": [
    "### Ex2: Utilitza un programa de creació de diagrames entitat-relació com http://dia-installer.de per crear el diagrama"
   ]
  },
  {
   "cell_type": "markdown",
   "id": "ba9ab9df",
   "metadata": {},
   "source": [
    "S'adjunta diagrama ER al GitHub junt amb el notebook de la tasca. com a \"diagrama model ER.pdf\""
   ]
  },
  {
   "cell_type": "markdown",
   "id": "766c0905",
   "metadata": {},
   "source": [
    "### Ex3: Utilitza el Workbench de MySQL per crear un model relacional"
   ]
  },
  {
   "cell_type": "markdown",
   "id": "12abfab1",
   "metadata": {},
   "source": [
    "Ara ja tenim les passes dels diferents dissenys (conceptual i lògic) per passar a fer el disseny físic. En un cas real hauriem d'haver recolectat la informació del client i futurs usuaris de la base de dades, per tenir en compte totes les opcions i necessitats de la base de dades, abans de fer el model ER."
   ]
  },
  {
   "cell_type": "code",
   "execution_count": 16,
   "id": "85f1a885",
   "metadata": {
    "ExecuteTime": {
     "end_time": "2022-06-30T11:18:07.736585Z",
     "start_time": "2022-06-30T11:18:07.708050Z"
    }
   },
   "outputs": [],
   "source": [
    "import mysql.connector"
   ]
  },
  {
   "cell_type": "code",
   "execution_count": 17,
   "id": "c41b3925",
   "metadata": {
    "ExecuteTime": {
     "end_time": "2022-06-30T11:18:08.249097Z",
     "start_time": "2022-06-30T11:18:07.745769Z"
    }
   },
   "outputs": [],
   "source": [
    "mydb = mysql.connector.connect(\n",
    "  host=\"localhost\",\n",
    "  user=\"Beth\",\n",
    "  password=\"B3thSQL@88\"\n",
    ")\n",
    "\n",
    "mycursor = mydb.cursor()\n",
    "\n",
    "#creem database \"database_test\"\n",
    "mycursor.execute(\"CREATE DATABASE datbase_test\")"
   ]
  },
  {
   "cell_type": "code",
   "execution_count": 18,
   "id": "0fd0a947",
   "metadata": {
    "ExecuteTime": {
     "end_time": "2022-06-30T11:18:08.294595Z",
     "start_time": "2022-06-30T11:18:08.258363Z"
    }
   },
   "outputs": [
    {
     "name": "stdout",
     "output_type": "stream",
     "text": [
      "('compras_establiments',)\n",
      "('datbase_test',)\n",
      "('information_schema',)\n",
      "('mydatabase',)\n",
      "('mysql',)\n",
      "('performance_schema',)\n",
      "('sakila',)\n",
      "('sys',)\n",
      "('world',)\n"
     ]
    }
   ],
   "source": [
    "#comprovem si s'ha creat la nostra base de dades\n",
    "\n",
    "mycursor.execute(\"SHOW DATABASES\")\n",
    "\n",
    "for x in mycursor:\n",
    "  print(x)"
   ]
  },
  {
   "cell_type": "code",
   "execution_count": 21,
   "id": "59afa951",
   "metadata": {
    "ExecuteTime": {
     "end_time": "2022-06-30T11:20:11.534725Z",
     "start_time": "2022-06-30T11:20:10.404686Z"
    }
   },
   "outputs": [],
   "source": [
    "#creem taula\n",
    "\n",
    "mydb = mysql.connector.connect(\n",
    "  host=\"localhost\",\n",
    "  user=\"Beth\",\n",
    "  password=\"B3thSQL@88\",\n",
    "  database=\"datbase_test\"\n",
    ")\n",
    "\n",
    "mycursor = mydb.cursor()\n",
    "\n",
    "mycursor.execute(\"CREATE TABLE testcomp (IDcompra VARCHAR(255) PRIMARY KEY, IDproducte VARCHAR(255), IDclient VARCHAR(255), IDestabliment VARCHAR(255), IDvenedor VARCHAR(255))\")"
   ]
  },
  {
   "cell_type": "code",
   "execution_count": 22,
   "id": "929dbdc0",
   "metadata": {
    "ExecuteTime": {
     "end_time": "2022-06-30T11:20:55.249679Z",
     "start_time": "2022-06-30T11:20:55.228706Z"
    }
   },
   "outputs": [
    {
     "name": "stdout",
     "output_type": "stream",
     "text": [
      "('testcomp',)\n"
     ]
    }
   ],
   "source": [
    "#comprovem si ha creat la taula\n",
    "\n",
    "mycursor.execute(\"SHOW TABLES\")\n",
    "\n",
    "for x in mycursor:\n",
    "  print(x)"
   ]
  },
  {
   "cell_type": "code",
   "execution_count": 25,
   "id": "e1bbc7c1",
   "metadata": {
    "ExecuteTime": {
     "end_time": "2022-06-30T11:29:14.868944Z",
     "start_time": "2022-06-30T11:29:14.756908Z"
    }
   },
   "outputs": [
    {
     "name": "stdout",
     "output_type": "stream",
     "text": [
      "1 els valors s'han inserit a la taula correctament\n"
     ]
    }
   ],
   "source": [
    "#podem insertar també valors (dades) en la taula que hem creat\n",
    "sql = \"INSERT INTO testcomp (IDcompra, IDproducte) VALUES (%s, %s)\"\n",
    "valor = (\"0218EST01\", \"CRN0299\")\n",
    "\n",
    "mycursor.execute(sql, valor)\n",
    "\n",
    "#aquesta instrucció és necessaria pq es facin els canvis a la taula\n",
    "mydb.commit()\n",
    "\n",
    "print(mycursor.rowcount, \"els valors s'han inserit a la taula correctament\")"
   ]
  },
  {
   "cell_type": "code",
   "execution_count": 45,
   "id": "2edfb56c",
   "metadata": {
    "ExecuteTime": {
     "end_time": "2022-07-01T07:42:34.469460Z",
     "start_time": "2022-07-01T07:42:34.256796Z"
    }
   },
   "outputs": [
    {
     "name": "stdout",
     "output_type": "stream",
     "text": [
      "('compras_establiments',)\n",
      "('datbase_test',)\n",
      "('information_schema',)\n",
      "('mydatabase',)\n",
      "('mysql',)\n",
      "('performance_schema',)\n",
      "('sakila',)\n",
      "('sys',)\n",
      "('world',)\n"
     ]
    }
   ],
   "source": [
    "#a mode d'exemple he generat la base de dades datbase_test, i he generat una columna, que he omplert amb alguns valors.\n",
    "#ara anem a mirar la base de dades (compras_establiments) creada directament amb el workbench de MySQL!\n",
    "\n",
    "mydb = mysql.connector.connect(\n",
    "  host=\"localhost\",\n",
    "  user=\"Beth\",\n",
    "  password=\"B3thSQL@88\",\n",
    "  database=\"compras_establiments\"\n",
    ")\n",
    "\n",
    "mycursor = mydb.cursor()\n",
    "\n",
    "mycursor.execute(\"SHOW DATABASES\")\n",
    "\n",
    "for x in mycursor:\n",
    "  print(x)"
   ]
  },
  {
   "cell_type": "code",
   "execution_count": 46,
   "id": "784e8c3d",
   "metadata": {
    "ExecuteTime": {
     "end_time": "2022-07-01T07:42:34.494085Z",
     "start_time": "2022-07-01T07:42:34.478435Z"
    }
   },
   "outputs": [
    {
     "name": "stdout",
     "output_type": "stream",
     "text": [
      "('client',)\n",
      "('compres',)\n",
      "('establiment',)\n",
      "('producte',)\n",
      "('treballador',)\n"
     ]
    }
   ],
   "source": [
    "#llistem les taules que tenim creades a la base de dades\n",
    "mycursor.execute(\"SHOW TABLES\")\n",
    "\n",
    "for x in mycursor:\n",
    "  print(x)"
   ]
  },
  {
   "cell_type": "code",
   "execution_count": 47,
   "id": "8c91f84b",
   "metadata": {
    "ExecuteTime": {
     "end_time": "2022-07-01T07:42:34.627915Z",
     "start_time": "2022-07-01T07:42:34.499509Z"
    }
   },
   "outputs": [
    {
     "name": "stdout",
     "output_type": "stream",
     "text": [
      "('idcompra', b'varchar(255)', 'NO', 'PRI', None, '')\n",
      "('idproducte', b'varchar(255)', 'NO', 'MUL', None, '')\n",
      "('idclient', b'varchar(255)', 'NO', 'MUL', None, '')\n",
      "('idestabliment', b'varchar(255)', 'NO', 'MUL', None, '')\n",
      "('idvenedor', b'varchar(255)', 'NO', 'MUL', None, '')\n"
     ]
    }
   ],
   "source": [
    "#llistem els camps de cada taula\n",
    "mycursor = mydb.cursor()\n",
    "\n",
    "mycursor.execute(\"SHOW COLUMNS FROM compres\")\n",
    "\n",
    "for x in mycursor:\n",
    "  print(x)"
   ]
  },
  {
   "cell_type": "code",
   "execution_count": 48,
   "id": "b4b414f2",
   "metadata": {
    "ExecuteTime": {
     "end_time": "2022-07-01T07:43:14.637830Z",
     "start_time": "2022-07-01T07:43:14.629858Z"
    }
   },
   "outputs": [
    {
     "name": "stdout",
     "output_type": "stream",
     "text": [
      "('idclient', b'varchar(255)', 'NO', 'PRI', None, '')\n",
      "('nom', b'varchar(255)', 'NO', '', None, '')\n",
      "('cognom', b'varchar(255)', 'NO', '', None, '')\n",
      "('idestabliment', b'varchar(255)', 'NO', '', None, '')\n"
     ]
    }
   ],
   "source": [
    "mycursor = mydb.cursor()\n",
    "\n",
    "mycursor.execute(\"SHOW COLUMNS FROM client\")\n",
    "\n",
    "for x in mycursor:\n",
    "  print(x)"
   ]
  },
  {
   "cell_type": "code",
   "execution_count": 49,
   "id": "e3601990",
   "metadata": {
    "ExecuteTime": {
     "end_time": "2022-07-01T07:43:45.615293Z",
     "start_time": "2022-07-01T07:43:45.592355Z"
    }
   },
   "outputs": [
    {
     "name": "stdout",
     "output_type": "stream",
     "text": [
      "('idestabliment', b'varchar(255)', 'NO', 'PRI', None, '')\n",
      "('nom', b'varchar(255)', 'NO', '', None, '')\n",
      "('localitzacio', b'varchar(255)', 'NO', '', None, '')\n",
      "('superficie', b'float', 'YES', '', None, '')\n"
     ]
    }
   ],
   "source": [
    "mycursor = mydb.cursor()\n",
    "\n",
    "mycursor.execute(\"SHOW COLUMNS FROM establiment\")\n",
    "\n",
    "for x in mycursor:\n",
    "  print(x)"
   ]
  },
  {
   "cell_type": "code",
   "execution_count": 50,
   "id": "778b6902",
   "metadata": {
    "ExecuteTime": {
     "end_time": "2022-07-01T07:43:48.538777Z",
     "start_time": "2022-07-01T07:43:48.518829Z"
    }
   },
   "outputs": [
    {
     "name": "stdout",
     "output_type": "stream",
     "text": [
      "('idproducte', b'varchar(255)', 'NO', 'PRI', None, '')\n",
      "('tipusproducte', b'int', 'NO', '', None, '')\n",
      "('preu', b'float', 'YES', '', None, '')\n"
     ]
    }
   ],
   "source": [
    "mycursor = mydb.cursor()\n",
    "\n",
    "mycursor.execute(\"SHOW COLUMNS FROM producte\")\n",
    "\n",
    "for x in mycursor:\n",
    "  print(x)"
   ]
  },
  {
   "cell_type": "code",
   "execution_count": 51,
   "id": "a07e1eae",
   "metadata": {
    "ExecuteTime": {
     "end_time": "2022-07-01T07:44:13.806780Z",
     "start_time": "2022-07-01T07:44:13.798804Z"
    }
   },
   "outputs": [
    {
     "name": "stdout",
     "output_type": "stream",
     "text": [
      "('idvenedor', b'varchar(255)', 'NO', 'PRI', None, '')\n",
      "('NIF', b'varchar(45)', 'NO', '', None, '')\n",
      "('nom', b'varchar(255)', 'NO', '', None, '')\n",
      "('cognom', b'varchar(255)', 'NO', '', None, '')\n",
      "('Sou', b'double', 'NO', '', None, '')\n",
      "('idestabliment', b'varchar(255)', 'NO', 'MUL', None, '')\n"
     ]
    }
   ],
   "source": [
    "mycursor = mydb.cursor()\n",
    "\n",
    "mycursor.execute(\"SHOW COLUMNS FROM treballador\")\n",
    "\n",
    "for x in mycursor:\n",
    "  print(x)"
   ]
  },
  {
   "cell_type": "code",
   "execution_count": 63,
   "id": "94eb7469",
   "metadata": {
    "ExecuteTime": {
     "end_time": "2022-07-01T08:39:08.263635Z",
     "start_time": "2022-07-01T08:39:07.992941Z"
    }
   },
   "outputs": [],
   "source": [
    "mycursor = mydb.cursor()\n",
    "\n",
    "sql = \"DELETE FROM producte\"\n",
    "\n",
    "mycursor.execute(sql)\n",
    "mydb.commit()\n"
   ]
  },
  {
   "cell_type": "markdown",
   "id": "b7db05cf",
   "metadata": {},
   "source": [
    "#si volem insertar dades a les nostres taules, ho podem fer des d'aqui, des del workbench directament i amb la opció de carregar directament les dades des d'un arxiu .csv (proporcionat pel nostre client!) que seria la manera més ràpida i així evitar errades de tipografia"
   ]
  },
  {
   "cell_type": "code",
   "execution_count": 64,
   "id": "23f20e72",
   "metadata": {
    "ExecuteTime": {
     "end_time": "2022-07-01T08:40:07.170529Z",
     "start_time": "2022-07-01T08:40:07.040661Z"
    }
   },
   "outputs": [
    {
     "name": "stdout",
     "output_type": "stream",
     "text": [
      "5 files inserides\n"
     ]
    }
   ],
   "source": [
    "mycursor = mydb.cursor()\n",
    "\n",
    "sql = \"INSERT INTO producte (idproducte, tipusproducte) VALUES (%s, %s)\"\n",
    "values = [\n",
    "  ('CRN0299', '28001'),\n",
    "  ('CRN0889', '05234'),\n",
    "  ('ZXD0052', '85210'),\n",
    "  ('HJF1285', '25196'),\n",
    "  ('HFJ0508', '28005')\n",
    "]\n",
    "\n",
    "mycursor.executemany(sql, values)\n",
    "\n",
    "mydb.commit()\n",
    "\n",
    "print(mycursor.rowcount, \"files inserides\")"
   ]
  },
  {
   "cell_type": "code",
   "execution_count": null,
   "id": "f85c1ab2",
   "metadata": {},
   "outputs": [],
   "source": [
    "#i així podriem anar omplint les diferents taules de la nostra base de dades"
   ]
  }
 ],
 "metadata": {
  "kernelspec": {
   "display_name": "Python 3 (ipykernel)",
   "language": "python",
   "name": "python3"
  },
  "language_info": {
   "codemirror_mode": {
    "name": "ipython",
    "version": 3
   },
   "file_extension": ".py",
   "mimetype": "text/x-python",
   "name": "python",
   "nbconvert_exporter": "python",
   "pygments_lexer": "ipython3",
   "version": "3.9.7"
  },
  "latex_envs": {
   "LaTeX_envs_menu_present": true,
   "autoclose": false,
   "autocomplete": true,
   "bibliofile": "biblio.bib",
   "cite_by": "apalike",
   "current_citInitial": 1,
   "eqLabelWithNumbers": true,
   "eqNumInitial": 1,
   "hotkeys": {
    "equation": "Ctrl-E",
    "itemize": "Ctrl-I"
   },
   "labels_anchors": false,
   "latex_user_defs": false,
   "report_style_numbering": false,
   "user_envs_cfg": false
  }
 },
 "nbformat": 4,
 "nbformat_minor": 5
}
